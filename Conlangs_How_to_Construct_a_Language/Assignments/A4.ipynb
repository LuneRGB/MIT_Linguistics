{
 "cells": [
  {
   "cell_type": "markdown",
   "metadata": {},
   "source": [
    "# Syntax\n",
    "\n",
    "Now it’s time to start thinking about the syntax of your language."
   ]
  },
  {
   "cell_type": "markdown",
   "metadata": {},
   "source": [
    "### Problem One\n",
    "What’s the most common order of subject, verb, and object? How free is the word order? Show me at least two sentences with subjects, verbs, and objects.\n"
   ]
  },
  {
   "cell_type": "markdown",
   "metadata": {},
   "source": []
  },
  {
   "cell_type": "markdown",
   "metadata": {},
   "source": [
    "\n",
    "### Problem Two\n",
    "Pick two parts of the noun phrase (other than the noun) and tell me their order with respect to each other and the noun. Give me an example."
   ]
  },
  {
   "cell_type": "markdown",
   "metadata": {},
   "source": []
  },
  {
   "cell_type": "markdown",
   "metadata": {},
   "source": [
    "\n",
    "### Problem Three\n",
    "Does your language have prepositions or postpositions? Show me an example, as part of a complete sentence.\n"
   ]
  },
  {
   "cell_type": "markdown",
   "metadata": {},
   "source": []
  },
  {
   "cell_type": "markdown",
   "metadata": {},
   "source": [
    "### Problem Four\n",
    "Give me an example containing an embedded clause."
   ]
  }
 ],
 "metadata": {
  "kernelspec": {
   "display_name": "Python 3.9.7 ('lexicode')",
   "language": "python",
   "name": "python3"
  },
  "language_info": {
   "name": "python",
   "version": "3.9.7"
  },
  "orig_nbformat": 4,
  "vscode": {
   "interpreter": {
    "hash": "2daa6f7286def38755db588b3c00aa10fd1d6bece803d7ab28902bcdb24b99a0"
   }
  }
 },
 "nbformat": 4,
 "nbformat_minor": 2
}
