{
 "cells": [
  {
   "cell_type": "markdown",
   "metadata": {},
   "source": [
    "# Morphology\n",
    "\n",
    "For this assignment I’ll be asking you to give your language some morphology. As we’ve seen, languages in the real world vary in how much morphology they have. So you have a choice (and you can choose to do more than one of these, if you want): give your language a case system, give it an agreement system, or tell me something about how compounding works in your language (I’ll discuss compounding below). More briefly: choose at least one of the following three options to do.\n"
   ]
  },
  {
   "cell_type": "markdown",
   "metadata": {},
   "source": [
    "### Option One: Case\n",
    "\n",
    "We’ve talked about a variety of case systems in class. Does your language mark case? What kind of system does it have? How many cases does it distinguish? Is there any syncretism? Show me at least one noun in all the different cases that it can take."
   ]
  },
  {
   "cell_type": "markdown",
   "metadata": {},
   "source": []
  },
  {
   "cell_type": "markdown",
   "metadata": {},
   "source": [
    "### Option Two: Agreement\n",
    "\n",
    "We’ve talked about a variety of agreement systems in class. Does your language have agreement? What gets agreed with? What kind of agreement system is it? Do the agreement morphemes attach to the verb (as in most of the languages we looked at) or somewhere else? Show me all the agreement morphemes; if you are attaching them to verbs, do that by showing me at least one verb with all of the different agreement morphemes it can take."
   ]
  },
  {
   "cell_type": "markdown",
   "metadata": {},
   "source": []
  },
  {
   "cell_type": "markdown",
   "metadata": {},
   "source": [
    "### Option Three: Compounding\n",
    "We have not talked about this in class. It’s very common, and in fact might be universal, for languages to allow speakers to put words together to create new words, like so:\n",
    "\n",
    "guitar store (English)\n",
    "\n",
    "bukang-bibig (Tagalog)\n",
    "\n",
    "open-mouth\n",
    "\n",
    "‘proverb’\n",
    "\n",
    "neko-jita (Japanese)\n",
    "\n",
    "cat-tongue\n",
    "\n",
    "‘inability to eat or drink hot things’\n",
    "\n",
    "There’s an overview article about compounds (PDF) that you can go look at if you want (some parts of it may be incomprehensibly technical; feel free to skip those).\n",
    "\n",
    "Tell me how compounds work in your language. Some things to think about:\n",
    "\n",
    "Where does stress go in a compound, if your language has stress? If your language has tone, how is the tone of the compound determined?\n",
    "Compounds are often said to have a head on one side or the other, which sort of determines what the whole compound refers to, and is where morphology can be added. English compound heads are on the right; a guitar store is a kind of store, not a kind of guitar, and the plural is guitar store-s, not guitar-s store (in fact, there can’t be a guitars store, even though such a store presumably has more than one guitar). Where does the head go in your language?\n",
    "\n",
    "Languages sometimes have morphemes or phonological processes applying between the members of a compound. The Japanese compound above, for example, applies a process called rendaku that voices the first consonant of the second half of the compound (the word for ‘tongue’ is normally shita, not jita). In the Tagalog compound above, the word for ‘open’ is actually buka; forming a compound involves putting in a morpheme ng between the two words you’re combining (if the first word ends in a vowel1). Are there any processes like these applying in your language?\n",
    "Compounds often, but not always, have some kind of idiomatic meaning–that is, the meaning of the compound can’t be predicted straightforwardly from the meanings of the two halves of the compound. The Tagalog and Japanese examples above demonstrate this.\n",
    "Answer the questions above, and give at least five examples of compounds in your language, including at least one with an idiomatic meaning.\n",
    "\n",
    "If it doesn’t, you don’t add ng:\n",
    "\n",
    "anak-pawis\n",
    "\n",
    "child-sweat\n",
    "\n",
    "‘manual laborer’\n"
   ]
  },
  {
   "cell_type": "markdown",
   "metadata": {},
   "source": []
  }
 ],
 "metadata": {
  "kernelspec": {
   "display_name": "Python 3.9.7 ('lexicode')",
   "language": "python",
   "name": "python3"
  },
  "language_info": {
   "name": "python",
   "version": "3.9.7"
  },
  "orig_nbformat": 4,
  "vscode": {
   "interpreter": {
    "hash": "2daa6f7286def38755db588b3c00aa10fd1d6bece803d7ab28902bcdb24b99a0"
   }
  }
 },
 "nbformat": 4,
 "nbformat_minor": 2
}
