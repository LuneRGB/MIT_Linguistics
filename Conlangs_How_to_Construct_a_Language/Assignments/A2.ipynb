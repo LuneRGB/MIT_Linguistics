{
 "cells": [
  {
   "cell_type": "markdown",
   "metadata": {},
   "source": [
    "# Phonology and/or Writing System\n",
    "\n",
    "Here you have a choice between two assignments. Do either 1 or 2 below."
   ]
  },
  {
   "cell_type": "markdown",
   "metadata": {},
   "source": [
    "\n",
    "### Create a writing system for your language.\n",
    "\n",
    "a. Unless it is a logographic system, show me all of the symbols it uses, and tell me what they stand for.  If it is a logographic system, show me ten symbols for words which are not in the dictionary from Assignment 1, and tell me what they mean and how they’re pronounced.\n",
    "\n",
    "b. In what direction is the language written?\n",
    "\n",
    "c. Does the language mark word boundaries (for example, does it put spaces between words)?\n",
    "\n",
    "d. Take the dictionary you showed me in Assignment 1 and show me how all the entries would be written in the writing system. You don’t have to be completely consistent; if you’ve decided that you want to change some of the words you wrote there, that’s fine. For this part of the assignment, each of your answers should be in three lines:\n",
    "\n",
    "გსლწერკბ\n",
    "\n",
    "t’elφiŋym\n",
    "\n",
    "‘bowling ball’\n"
   ]
  },
  {
   "cell_type": "markdown",
   "metadata": {},
   "source": []
  },
  {
   "cell_type": "markdown",
   "metadata": {},
   "source": [
    "### Show me a phonological rule of your language. \n",
    "\n",
    "Again, you don’t have to be consistent with what you said in Assignment 1; if you’ve decided that your language would be cooler with a general rule forbidding consonant clusters, or requiring stops to lenite to fricatives between vowels, or whatever, that’s fine, even if you had words that violated that general rule back then. Tell me in prose what the rule does, and show me three examples of the rule at work. One place you could look for inspiration is at this website with lists of many sound changes that various languages have undergone in their histories. If you explore, maybe you’ll find a sound change that appeals to you."
   ]
  },
  {
   "cell_type": "markdown",
   "metadata": {},
   "source": []
  }
 ],
 "metadata": {
  "kernelspec": {
   "display_name": "Python 3.9.7 ('lexicode')",
   "language": "python",
   "name": "python3"
  },
  "language_info": {
   "name": "python",
   "version": "3.9.7"
  },
  "orig_nbformat": 4,
  "vscode": {
   "interpreter": {
    "hash": "2daa6f7286def38755db588b3c00aa10fd1d6bece803d7ab28902bcdb24b99a0"
   }
  }
 },
 "nbformat": 4,
 "nbformat_minor": 2
}
