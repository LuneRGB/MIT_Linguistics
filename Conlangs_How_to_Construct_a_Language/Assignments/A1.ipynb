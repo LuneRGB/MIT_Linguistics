{
 "cells": [
  {
   "cell_type": "markdown",
   "metadata": {},
   "source": [
    "# Conlangs: How to Construct a Language"
   ]
  },
  {
   "cell_type": "markdown",
   "metadata": {},
   "source": [
    "1. Give me an inventory of sounds for your language. Use the IPA to write them. This part of the assignment can be very simple; if you’ve decided your language has only two consonants and one vowel, for example, you could write:\n",
    "p     t     u\n",
    "(This would be a very odd language, of course.) If your language does not use sounds at all, that’s fine; you will just have to come up with some equivalent. What are the basic units, for your language?"
   ]
  },
  {
   "cell_type": "markdown",
   "metadata": {},
   "source": []
  },
  {
   "cell_type": "markdown",
   "metadata": {},
   "source": [
    "2. Tell me something suprasegmental about your language. Does it have tone? Which tones? Does it have stress? What are the rules for stress?"
   ]
  },
  {
   "cell_type": "markdown",
   "metadata": {},
   "source": []
  },
  {
   "cell_type": "markdown",
   "metadata": {},
   "source": [
    "3. Tell me about the syllable structure. What restrictions are there?"
   ]
  },
  {
   "cell_type": "markdown",
   "metadata": {},
   "source": []
  },
  {
   "cell_type": "markdown",
   "metadata": {},
   "source": [
    "4. Give me a mini-dictionary of twenty words of your language. You can start off with a Swadesh list for inspiration (Wikipedia has one you can use). The words should be uninflected; don’t give me singulars and plurals of nouns, for example, or different tenses of verbs."
   ]
  },
  {
   "cell_type": "markdown",
   "metadata": {},
   "source": []
  }
 ],
 "metadata": {
  "language_info": {
   "name": "python"
  },
  "orig_nbformat": 4
 },
 "nbformat": 4,
 "nbformat_minor": 2
}
