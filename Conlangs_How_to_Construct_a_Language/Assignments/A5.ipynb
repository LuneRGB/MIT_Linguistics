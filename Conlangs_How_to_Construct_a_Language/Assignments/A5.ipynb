{
 "cells": [
  {
   "cell_type": "markdown",
   "metadata": {},
   "source": [
    "# Translation\n",
    "\n",
    "Translate the following sentences into your language (making any culturally necessary changes,\n",
    "if the sentences mention technology, for example, that differs from that used by the speakers of\n",
    "your language). Comment on any new pieces of grammar you have to invent.\n",
    "\n",
    "1. Whose book are you reading?\n",
    "\n",
    "2. I made the children do their homework.\n",
    "\n",
    "3. She wrote her sweetheart a poem.\n",
    "\n",
    "4. I have a purple car*.\n",
    "\n",
    "5. He criticizes himself constantly.\n",
    "\n",
    "6. She is smarter than you.\n",
    "\n",
    "*: or spacecraft. or horse. or whatever makes sense for your language."
   ]
  },
  {
   "cell_type": "markdown",
   "metadata": {},
   "source": []
  }
 ],
 "metadata": {
  "kernelspec": {
   "display_name": "Python 3.9.7 ('lexicode')",
   "language": "python",
   "name": "python3"
  },
  "language_info": {
   "name": "python",
   "version": "3.9.7"
  },
  "orig_nbformat": 4,
  "vscode": {
   "interpreter": {
    "hash": "2daa6f7286def38755db588b3c00aa10fd1d6bece803d7ab28902bcdb24b99a0"
   }
  }
 },
 "nbformat": 4,
 "nbformat_minor": 2
}
